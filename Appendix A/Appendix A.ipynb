{
 "cells": [
  {
   "cell_type": "markdown",
   "metadata": {},
   "source": [
    "# Appendix A: Evolution of Central Business Districts in Mumbai"
   ]
  },
  {
   "cell_type": "markdown",
   "metadata": {},
   "source": [
    "Central Business Districts (CBDs) have cropped up across Mumbai, either as planned efforts by the state government or in response to changes in economic activities. The Development Plan for Mumbai identifies Nariman Point, Bandra Kurla Complex, Lower Parel, Andheri East and Malad West as key employment nodes for the city based on land use. \n"
   ]
  },
  {
   "cell_type": "markdown",
   "metadata": {},
   "source": [
    "**The historic CBD of Mumbai**"
   ]
  },
  {
   "cell_type": "markdown",
   "metadata": {},
   "source": [
    "Historically, the city’s CBD was located in Fort and Nariman Point, the southernmost tip of Mumbai. This area was developed largely by the British prior to Indian independence in 1947 and was used for trade and other commercial purposes. The Municipal Corporation of Greater Mumbai (MCGM), state government and state legislature of Maharashtra, the Bombay High Court, and the RBI are located in this area. Many large companies, prominent family businesses and banks have their headquarters in this part of the city. Thousands still commute everyday from increasingly greater distances to this CBD.\n"
   ]
  },
  {
   "cell_type": "markdown",
   "metadata": {},
   "source": [
    "**Parel undergoes a transition**\n"
   ]
  },
  {
   "cell_type": "markdown",
   "metadata": {},
   "source": [
    "While services thrived in Nariman Point, manufacturing, especially textile mills, were concentrated further north in the areas of Parel, Elphinstone and Lalbaug. In 1975, there were some 50 textile mills employing 250,000 workers, primarily in these areas but also in other parts of Mumbai (Adarkar & Phatak, 2005). In the 1980s, these mills began shutting down due to labour issues, lack of competitiveness and excessive regulation. With the closure of mills and the rise of Information Technology (IT) and Information Technology Enabled Services (ITES), as well as of corporate and financial services following the liberalisation reforms of 1991, the demand for commercial and office space increased. Nariman Point and Fort, the first CBD in Mumbai, had extremely high commercial rents and old, worn-out buildings. As a result, some of the former mill lands were redeveloped with high-end commercial offices and the prominent activities in these areas today are finance and services."
   ]
  },
  {
   "cell_type": "markdown",
   "metadata": {},
   "source": [
    "**The emergence of Bandra Kurla Complex, Andheri East and Malad**"
   ]
  },
  {
   "cell_type": "markdown",
   "metadata": {},
   "source": [
    "Bandra Kurla Complex (BKC) is an area of 3.7 square km located in the heart of Mumbai. It was proposed in 1973 as a centre for mills in order to decongest the South and was to be developed by the Mumbai Metropolitan Region Development Authority (MMRDA). As the city’s economic base transitioned from manufacturing to services, plans for BKC also evolved. Now, it was to become a business and financial centre. The area was developed block-by-block and land was leased for building large office complexes. It currently provides around 200,000 jobs and hosts hospitals, courts, international schools and foreign consulates.\n",
    " \n",
    "In the 1970s, in Andheri East, the Maharashtra Industrial Development Corporation (MIDC) land and Santacruz Electronic Export Promoting Zone (SEEPZ) were developed to promote the manufacture and export of electronic goods. State government land in this area, demarcated for promoting industries, was leased to manufacturers with this objective. In the late 1980s, the gems and jewellery industry was leased land and given other exemptions with a view to encouraging exports. As a result, this area sees a high concentration of those specific types of export-oriented activity.\n",
    " \n",
    "The city’s newest and the smallest CBD is in the north-western suburb of Malad. At the start of the 21st century, Business Processing Outsourcing (BPO) and ITES emerged as rapidly growing sectors. India was a preferred destination on account of availability of skilled, English-speaking workers and their low wage costs. Large metropolises such as Mumbai, which had these advantages along with good infrastructure, witnessed a boom in BPO offices. Often, these activities required large buildings and the availability of land, in addition to low rents, made Malad an attractive place to do business. \n"
   ]
  }
 ],
 "metadata": {
  "kernelspec": {
   "display_name": "Python 3",
   "language": "python",
   "name": "python3"
  },
  "language_info": {
   "codemirror_mode": {
    "name": "ipython",
    "version": 3
   },
   "file_extension": ".py",
   "mimetype": "text/x-python",
   "name": "python",
   "nbconvert_exporter": "python",
   "pygments_lexer": "ipython3",
   "version": "3.7.1"
  }
 },
 "nbformat": 4,
 "nbformat_minor": 2
}
